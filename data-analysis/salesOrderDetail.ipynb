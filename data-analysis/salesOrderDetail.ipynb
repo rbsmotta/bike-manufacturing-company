{
 "cells": [
  {
   "cell_type": "code",
   "execution_count": 1,
   "metadata": {},
   "outputs": [],
   "source": [
    "# bibliotecas necessárias\n",
    "import pandas as pd\n",
    "\n",
    "# criando objeto com caminho e carregando arquivo csv\n",
    "path = '/home/robson/repositorios/bike-manufacturing-company/data-lake/landing/Sales.SalesOrderDetail.csv'\n",
    "loaded_csv = pd.read_csv(path, sep=';')\n",
    "\n",
    "# criando dataframe pandas\n",
    "df = pd.DataFrame(loaded_csv)"
   ]
  },
  {
   "cell_type": "markdown",
   "metadata": {},
   "source": [
    "#### Análise estrutural"
   ]
  },
  {
   "cell_type": "code",
   "execution_count": 2,
   "metadata": {},
   "outputs": [
    {
     "data": {
      "text/plain": [
       "(121317, 11)"
      ]
     },
     "execution_count": 2,
     "metadata": {},
     "output_type": "execute_result"
    }
   ],
   "source": [
    "# verificando estrutura do dataframe (rows, columns)\n",
    "df.shape"
   ]
  },
  {
   "cell_type": "code",
   "execution_count": 3,
   "metadata": {},
   "outputs": [
    {
     "data": {
      "text/plain": [
       "SalesOrderID               int64\n",
       "SalesOrderDetailID         int64\n",
       "CarrierTrackingNumber     object\n",
       "OrderQty                   int64\n",
       "ProductID                  int64\n",
       "SpecialOfferID             int64\n",
       "UnitPrice                 object\n",
       "UnitPriceDiscount         object\n",
       "LineTotal                float64\n",
       "rowguid                   object\n",
       "ModifiedDate              object\n",
       "dtype: object"
      ]
     },
     "execution_count": 3,
     "metadata": {},
     "output_type": "execute_result"
    }
   ],
   "source": [
    "# verificando tipos de dados\n",
    "df.dtypes"
   ]
  },
  {
   "cell_type": "code",
   "execution_count": 4,
   "metadata": {},
   "outputs": [
    {
     "data": {
      "text/html": [
       "<div>\n",
       "<style scoped>\n",
       "    .dataframe tbody tr th:only-of-type {\n",
       "        vertical-align: middle;\n",
       "    }\n",
       "\n",
       "    .dataframe tbody tr th {\n",
       "        vertical-align: top;\n",
       "    }\n",
       "\n",
       "    .dataframe thead th {\n",
       "        text-align: right;\n",
       "    }\n",
       "</style>\n",
       "<table border=\"1\" class=\"dataframe\">\n",
       "  <thead>\n",
       "    <tr style=\"text-align: right;\">\n",
       "      <th></th>\n",
       "      <th>CarrierTrackingNumber</th>\n",
       "      <th>UnitPrice</th>\n",
       "      <th>UnitPriceDiscount</th>\n",
       "      <th>rowguid</th>\n",
       "      <th>ModifiedDate</th>\n",
       "    </tr>\n",
       "  </thead>\n",
       "  <tbody>\n",
       "    <tr>\n",
       "      <th>count</th>\n",
       "      <td>60919</td>\n",
       "      <td>121317</td>\n",
       "      <td>121317</td>\n",
       "      <td>121317</td>\n",
       "      <td>121317</td>\n",
       "    </tr>\n",
       "    <tr>\n",
       "      <th>unique</th>\n",
       "      <td>3806</td>\n",
       "      <td>287</td>\n",
       "      <td>9</td>\n",
       "      <td>121317</td>\n",
       "      <td>1124</td>\n",
       "    </tr>\n",
       "    <tr>\n",
       "      <th>top</th>\n",
       "      <td>9429-430D-89</td>\n",
       "      <td>4,99</td>\n",
       "      <td>0,00</td>\n",
       "      <td>B207C96D-D9E6-402B-8470-2CC176C42283</td>\n",
       "      <td>2013-06-30 00:00:00.000</td>\n",
       "    </tr>\n",
       "    <tr>\n",
       "      <th>freq</th>\n",
       "      <td>72</td>\n",
       "      <td>8827</td>\n",
       "      <td>118035</td>\n",
       "      <td>1</td>\n",
       "      <td>3876</td>\n",
       "    </tr>\n",
       "  </tbody>\n",
       "</table>\n",
       "</div>"
      ],
      "text/plain": [
       "       CarrierTrackingNumber UnitPrice UnitPriceDiscount  \\\n",
       "count                  60919    121317            121317   \n",
       "unique                  3806       287                 9   \n",
       "top             9429-430D-89      4,99              0,00   \n",
       "freq                      72      8827            118035   \n",
       "\n",
       "                                     rowguid             ModifiedDate  \n",
       "count                                 121317                   121317  \n",
       "unique                                121317                     1124  \n",
       "top     B207C96D-D9E6-402B-8470-2CC176C42283  2013-06-30 00:00:00.000  \n",
       "freq                                       1                     3876  "
      ]
     },
     "execution_count": 4,
     "metadata": {},
     "output_type": "execute_result"
    }
   ],
   "source": [
    "# analisando valores unicos de cada coluna nao-numerica\n",
    "df.describe(exclude='number')"
   ]
  },
  {
   "cell_type": "markdown",
   "metadata": {},
   "source": [
    "#### Análise qualitativa"
   ]
  },
  {
   "cell_type": "code",
   "execution_count": 5,
   "metadata": {},
   "outputs": [
    {
     "data": {
      "text/plain": [
       "SalesOrderID                 0\n",
       "SalesOrderDetailID           0\n",
       "CarrierTrackingNumber    60398\n",
       "OrderQty                     0\n",
       "ProductID                    0\n",
       "SpecialOfferID               0\n",
       "UnitPrice                    0\n",
       "UnitPriceDiscount            0\n",
       "LineTotal                    0\n",
       "rowguid                      0\n",
       "ModifiedDate                 0\n",
       "dtype: int64"
      ]
     },
     "execution_count": 5,
     "metadata": {},
     "output_type": "execute_result"
    }
   ],
   "source": [
    "# verificando existencia de dados nulos por coluna\n",
    "df.isnull().sum()"
   ]
  },
  {
   "cell_type": "markdown",
   "metadata": {},
   "source": [
    "### Conclusão:\n",
    "\n",
    "1- Apenas a coluna \"CarrierTrackingNumber\" com dados nulos. Será inserido um valor padrão.\n",
    "\n",
    "2- Mudança de tipos de dados."
   ]
  }
 ],
 "metadata": {
  "kernelspec": {
   "display_name": "Python 3.10.4 64-bit",
   "language": "python",
   "name": "python3"
  },
  "language_info": {
   "codemirror_mode": {
    "name": "ipython",
    "version": 3
   },
   "file_extension": ".py",
   "mimetype": "text/x-python",
   "name": "python",
   "nbconvert_exporter": "python",
   "pygments_lexer": "ipython3",
   "version": "3.10.4"
  },
  "orig_nbformat": 4,
  "vscode": {
   "interpreter": {
    "hash": "916dbcbb3f70747c44a77c7bcd40155683ae19c65e1c03b4aa3499c5328201f1"
   }
  }
 },
 "nbformat": 4,
 "nbformat_minor": 2
}
