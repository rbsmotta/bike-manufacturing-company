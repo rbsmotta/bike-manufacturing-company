{
 "cells": [
  {
   "cell_type": "code",
   "execution_count": 41,
   "metadata": {},
   "outputs": [],
   "source": [
    "# bibliotecas necessárias\n",
    "import pandas as pd\n",
    "\n",
    "# criando objeto com caminho e carregando arquivo csv\n",
    "path = '/home/robson/repositorios/bike-manufacturing-company/data-lake/landing/Person.Person.csv'\n",
    "loaded_csv = pd.read_csv(path, sep=';')\n",
    "\n",
    "# criando dataframe pandas\n",
    "df = pd.DataFrame(loaded_csv)"
   ]
  },
  {
   "cell_type": "markdown",
   "metadata": {},
   "source": [
    "#### Análise estrutural"
   ]
  },
  {
   "cell_type": "code",
   "execution_count": 42,
   "metadata": {},
   "outputs": [
    {
     "data": {
      "text/plain": [
       "(19972, 13)"
      ]
     },
     "execution_count": 42,
     "metadata": {},
     "output_type": "execute_result"
    }
   ],
   "source": [
    "# verificando estrutura do dataframe (rows, columns)\n",
    "df.shape"
   ]
  },
  {
   "cell_type": "code",
   "execution_count": 43,
   "metadata": {},
   "outputs": [
    {
     "data": {
      "text/plain": [
       "BusinessEntityID          int64\n",
       "PersonType               object\n",
       "NameStyle                 int64\n",
       "Title                    object\n",
       "FirstName                object\n",
       "MiddleName               object\n",
       "LastName                 object\n",
       "Suffix                   object\n",
       "EmailPromotion            int64\n",
       "AdditionalContactInfo    object\n",
       "Demographics             object\n",
       "rowguid                  object\n",
       "ModifiedDate             object\n",
       "dtype: object"
      ]
     },
     "execution_count": 43,
     "metadata": {},
     "output_type": "execute_result"
    }
   ],
   "source": [
    "# verificando tipos de dados\n",
    "df.dtypes"
   ]
  },
  {
   "cell_type": "code",
   "execution_count": 44,
   "metadata": {},
   "outputs": [
    {
     "data": {
      "text/html": [
       "<div>\n",
       "<style scoped>\n",
       "    .dataframe tbody tr th:only-of-type {\n",
       "        vertical-align: middle;\n",
       "    }\n",
       "\n",
       "    .dataframe tbody tr th {\n",
       "        vertical-align: top;\n",
       "    }\n",
       "\n",
       "    .dataframe thead th {\n",
       "        text-align: right;\n",
       "    }\n",
       "</style>\n",
       "<table border=\"1\" class=\"dataframe\">\n",
       "  <thead>\n",
       "    <tr style=\"text-align: right;\">\n",
       "      <th></th>\n",
       "      <th>PersonType</th>\n",
       "      <th>Title</th>\n",
       "      <th>FirstName</th>\n",
       "      <th>MiddleName</th>\n",
       "      <th>LastName</th>\n",
       "      <th>Suffix</th>\n",
       "      <th>AdditionalContactInfo</th>\n",
       "      <th>Demographics</th>\n",
       "      <th>rowguid</th>\n",
       "      <th>ModifiedDate</th>\n",
       "    </tr>\n",
       "  </thead>\n",
       "  <tbody>\n",
       "    <tr>\n",
       "      <th>count</th>\n",
       "      <td>19972</td>\n",
       "      <td>1009</td>\n",
       "      <td>19972</td>\n",
       "      <td>11473</td>\n",
       "      <td>19972</td>\n",
       "      <td>53</td>\n",
       "      <td>10</td>\n",
       "      <td>19972</td>\n",
       "      <td>19972</td>\n",
       "      <td>19972</td>\n",
       "    </tr>\n",
       "    <tr>\n",
       "      <th>unique</th>\n",
       "      <td>6</td>\n",
       "      <td>6</td>\n",
       "      <td>1018</td>\n",
       "      <td>71</td>\n",
       "      <td>1206</td>\n",
       "      <td>6</td>\n",
       "      <td>10</td>\n",
       "      <td>19114</td>\n",
       "      <td>19972</td>\n",
       "      <td>1285</td>\n",
       "    </tr>\n",
       "    <tr>\n",
       "      <th>top</th>\n",
       "      <td>IN</td>\n",
       "      <td>Mr.</td>\n",
       "      <td>Richard</td>\n",
       "      <td>A</td>\n",
       "      <td>Diaz</td>\n",
       "      <td>Jr.</td>\n",
       "      <td>&lt;AdditionalContactInfo xmlns=\"http://schemas.m...</td>\n",
       "      <td>&lt;IndividualSurvey xmlns=\"http://schemas.micros...</td>\n",
       "      <td>92C4279F-1207-48A3-8448-4636514EB7E2</td>\n",
       "      <td>2013-07-31 00:00:00.000</td>\n",
       "    </tr>\n",
       "    <tr>\n",
       "      <th>freq</th>\n",
       "      <td>18484</td>\n",
       "      <td>577</td>\n",
       "      <td>103</td>\n",
       "      <td>1319</td>\n",
       "      <td>211</td>\n",
       "      <td>33</td>\n",
       "      <td>1</td>\n",
       "      <td>853</td>\n",
       "      <td>1</td>\n",
       "      <td>136</td>\n",
       "    </tr>\n",
       "  </tbody>\n",
       "</table>\n",
       "</div>"
      ],
      "text/plain": [
       "       PersonType Title FirstName MiddleName LastName Suffix  \\\n",
       "count       19972  1009     19972      11473    19972     53   \n",
       "unique          6     6      1018         71     1206      6   \n",
       "top            IN   Mr.   Richard          A     Diaz    Jr.   \n",
       "freq        18484   577       103       1319      211     33   \n",
       "\n",
       "                                    AdditionalContactInfo  \\\n",
       "count                                                  10   \n",
       "unique                                                 10   \n",
       "top     <AdditionalContactInfo xmlns=\"http://schemas.m...   \n",
       "freq                                                    1   \n",
       "\n",
       "                                             Demographics  \\\n",
       "count                                               19972   \n",
       "unique                                              19114   \n",
       "top     <IndividualSurvey xmlns=\"http://schemas.micros...   \n",
       "freq                                                  853   \n",
       "\n",
       "                                     rowguid             ModifiedDate  \n",
       "count                                  19972                    19972  \n",
       "unique                                 19972                     1285  \n",
       "top     92C4279F-1207-48A3-8448-4636514EB7E2  2013-07-31 00:00:00.000  \n",
       "freq                                       1                      136  "
      ]
     },
     "execution_count": 44,
     "metadata": {},
     "output_type": "execute_result"
    }
   ],
   "source": [
    "# analisando valores unicos de cada coluna nao-numerica\n",
    "df.describe(exclude='number')"
   ]
  },
  {
   "cell_type": "code",
   "execution_count": 45,
   "metadata": {},
   "outputs": [
    {
     "data": {
      "text/html": [
       "<div>\n",
       "<style scoped>\n",
       "    .dataframe tbody tr th:only-of-type {\n",
       "        vertical-align: middle;\n",
       "    }\n",
       "\n",
       "    .dataframe tbody tr th {\n",
       "        vertical-align: top;\n",
       "    }\n",
       "\n",
       "    .dataframe thead th {\n",
       "        text-align: right;\n",
       "    }\n",
       "</style>\n",
       "<table border=\"1\" class=\"dataframe\">\n",
       "  <thead>\n",
       "    <tr style=\"text-align: right;\">\n",
       "      <th></th>\n",
       "      <th>BusinessEntityID</th>\n",
       "      <th>NameStyle</th>\n",
       "      <th>EmailPromotion</th>\n",
       "    </tr>\n",
       "  </thead>\n",
       "  <tbody>\n",
       "    <tr>\n",
       "      <th>count</th>\n",
       "      <td>19972.000000</td>\n",
       "      <td>19972.0</td>\n",
       "      <td>19972.000000</td>\n",
       "    </tr>\n",
       "    <tr>\n",
       "      <th>mean</th>\n",
       "      <td>10763.079411</td>\n",
       "      <td>0.0</td>\n",
       "      <td>0.630082</td>\n",
       "    </tr>\n",
       "    <tr>\n",
       "      <th>std</th>\n",
       "      <td>5814.133272</td>\n",
       "      <td>0.0</td>\n",
       "      <td>0.781433</td>\n",
       "    </tr>\n",
       "    <tr>\n",
       "      <th>min</th>\n",
       "      <td>1.000000</td>\n",
       "      <td>0.0</td>\n",
       "      <td>0.000000</td>\n",
       "    </tr>\n",
       "    <tr>\n",
       "      <th>25%</th>\n",
       "      <td>5798.750000</td>\n",
       "      <td>0.0</td>\n",
       "      <td>0.000000</td>\n",
       "    </tr>\n",
       "    <tr>\n",
       "      <th>50%</th>\n",
       "      <td>10791.500000</td>\n",
       "      <td>0.0</td>\n",
       "      <td>0.000000</td>\n",
       "    </tr>\n",
       "    <tr>\n",
       "      <th>75%</th>\n",
       "      <td>15784.250000</td>\n",
       "      <td>0.0</td>\n",
       "      <td>1.000000</td>\n",
       "    </tr>\n",
       "    <tr>\n",
       "      <th>max</th>\n",
       "      <td>20777.000000</td>\n",
       "      <td>0.0</td>\n",
       "      <td>2.000000</td>\n",
       "    </tr>\n",
       "  </tbody>\n",
       "</table>\n",
       "</div>"
      ],
      "text/plain": [
       "       BusinessEntityID  NameStyle  EmailPromotion\n",
       "count      19972.000000    19972.0    19972.000000\n",
       "mean       10763.079411        0.0        0.630082\n",
       "std         5814.133272        0.0        0.781433\n",
       "min            1.000000        0.0        0.000000\n",
       "25%         5798.750000        0.0        0.000000\n",
       "50%        10791.500000        0.0        0.000000\n",
       "75%        15784.250000        0.0        1.000000\n",
       "max        20777.000000        0.0        2.000000"
      ]
     },
     "execution_count": 45,
     "metadata": {},
     "output_type": "execute_result"
    }
   ],
   "source": [
    "df.describe(include='number')"
   ]
  },
  {
   "cell_type": "markdown",
   "metadata": {},
   "source": [
    "#### Análise qualitativa"
   ]
  },
  {
   "cell_type": "code",
   "execution_count": 46,
   "metadata": {},
   "outputs": [
    {
     "data": {
      "text/plain": [
       "BusinessEntityID             0\n",
       "PersonType                   0\n",
       "NameStyle                    0\n",
       "Title                    18963\n",
       "FirstName                    0\n",
       "MiddleName                8499\n",
       "LastName                     0\n",
       "Suffix                   19919\n",
       "EmailPromotion               0\n",
       "AdditionalContactInfo    19962\n",
       "Demographics                 0\n",
       "rowguid                      0\n",
       "ModifiedDate                 0\n",
       "dtype: int64"
      ]
     },
     "execution_count": 46,
     "metadata": {},
     "output_type": "execute_result"
    }
   ],
   "source": [
    "# verificando existencia de dados nulos por coluna\n",
    "df.isnull().sum()"
   ]
  },
  {
   "cell_type": "markdown",
   "metadata": {},
   "source": [
    "### Conclusão:\n",
    "\n",
    "1- Coluna \"Title\" contendo 18963 campos vazios. Como é um campo que não terá influência nas análises, será descartada a coluna.\n",
    "\n",
    "2- Nomes pessoais na tabela separados por \"FirstName\", \"MiddleName\" e \"LastName\", tendo ainda o campo \"Suffix\". Apesar de não ser o ideal (em algumas situações o campo \"MiddleName\" ficará vazio), resolvi deixar as 3 colunas como estão, não excluindo a coluna \"MiddleName\" e nem mesclando as colunas em uma única coluna \"Name\". Sera inserido \"uninformed\" nos campos vazios\n",
    "\n",
    "3- Coluna \"AdditionalContactInfo com 19962 campos vazios. Será descartada a coluna, pois não serão feitas análises com tal informação. \n",
    "\n",
    "4- Colunas \"BusinessEntityID\", \"NameStyle\" e \"EmailPromotion\" do tipo \"int\", sendo prudente transformá-las em \"string\"."
   ]
  }
 ],
 "metadata": {
  "kernelspec": {
   "display_name": "Python 3.10.4 64-bit",
   "language": "python",
   "name": "python3"
  },
  "language_info": {
   "codemirror_mode": {
    "name": "ipython",
    "version": 3
   },
   "file_extension": ".py",
   "mimetype": "text/x-python",
   "name": "python",
   "nbconvert_exporter": "python",
   "pygments_lexer": "ipython3",
   "version": "3.10.4"
  },
  "orig_nbformat": 4,
  "vscode": {
   "interpreter": {
    "hash": "916dbcbb3f70747c44a77c7bcd40155683ae19c65e1c03b4aa3499c5328201f1"
   }
  }
 },
 "nbformat": 4,
 "nbformat_minor": 2
}
